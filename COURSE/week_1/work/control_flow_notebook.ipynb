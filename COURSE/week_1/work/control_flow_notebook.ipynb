{
 "cells": [
  {
   "cell_type": "markdown",
   "metadata": {},
   "source": [
    "# Soccer Analytics: Control Flow\n",
    "\n",
    "This notebook explores Python control flow structures (conditionals and loops) through the lens of soccer analytics. We'll implement and demonstrate functions that use these control structures to analyze and process soccer-related data."
   ]
  },
  {
   "cell_type": "markdown",
   "metadata": {},
   "source": [
    "## 1. Goal Commentary Generator\n",
    "\n",
    "This function generates a sequence of soccer commentary based on numerical patterns. It demonstrates the use of `for` loops and conditional `if-elif-else` statements."
   ]
  },
  {
   "cell_type": "code",
   "execution_count": null,
   "metadata": {},
   "outputs": [],
   "source": [
    "def goal_commentary(n):\n",
    "    \"\"\"\n",
    "    Generate soccer commentary based on minute patterns.\n",
    "    \n",
    "    Args:\n",
    "        n (int): The number of minutes to generate commentary for\n",
    "        \n",
    "    Returns:\n",
    "        list: A list of commentary strings\n",
    "    \"\"\"\n",
    "    commentary = []\n",
    "    for i in range(1, n + 1):\n",
    "        if i % 3 == 0 and i % 5 == 0:  # Divisible by both 3 and 5\n",
    "            commentary.append(\"Spectacular Play!\")\n",
    "        elif i % 3 == 0:  # Divisible by 3\n",
    "            commentary.append(\"Goal!\")\n",
    "        elif i % 5 == 0:  # Divisible by 5\n",
    "            commentary.append(\"Save!\")\n",
    "        else:  # Other minutes\n",
    "            commentary.append(f\"Minute {i}\")\n",
    "    return commentary"
   ]
  },
  {
   "cell_type": "code",
   "execution_count": null,
   "metadata": {},
   "outputs": [],
   "source": [
    "# Example usage\n",
    "commentary_15_min = goal_commentary(15)\n",
    "\n",
    "# Display the commentary for 15 minutes\n",
    "for i, comment in enumerate(commentary_15_min, 1):\n",
    "    print(f\"Min {i}: {comment}\")\n",
    "\n",
    "# Count the types of events\n",
    "event_counts = {}\n",
    "for comment in commentary_15_min:\n",
    "    if comment in event_counts:\n",
    "        event_counts[comment] += 1\n",
    "    else:\n",
    "        event_counts[comment] = 1\n",
    "\n",
    "# Remove individual minute entries from the count\n",
    "event_summary = {k: v for k, v in event_counts.items() if not k.startswith(\"Minute\")}\n",
    "minute_count = sum(1 for comment in commentary_15_min if comment.startswith(\"Minute\"))\n",
    "if minute_count > 0:\n",
    "    event_summary[\"Regular Play\"] = minute_count\n",
    "\n",
    "print(\"\\nEvent Summary:\")\n",
    "for event, count in event_summary.items():\n",
    "    print(f\"{event}: {count}\")"
   ]
  },
  {
   "cell_type": "markdown",
   "metadata": {},
   "source": [
    "## 2. Prime Jersey Number Checker\n",
    "\n",
    "This function checks if a jersey number is a prime number. It demonstrates the use of `for` loops with `break` conditions and conditional statements."
   ]
  },
  {
   "cell_type": "code",
   "execution_count": null,
   "metadata": {},
   "outputs": [],
   "source": [
    "def is_prime_jersey_number(number):\n",
    "    \"\"\"\n",
    "    Check if a jersey number is prime.\n",
    "    \n",
    "    Args:\n",
    "        number (int): The jersey number to check\n",
    "        \n",
    "    Returns:\n",
    "        bool: True if the number is prime, False otherwise\n",
    "    \"\"\"\n",
    "    if number <= 1:  # 1 and below are not prime\n",
    "        return False\n",
    "    \n",
    "    # Check for divisibility up to the square root of the number\n",
    "    for i in range(2, int(number ** 0.5) + 1):\n",
    "        if number % i == 0:  # If divisible by any number, it's not prime\n",
    "            return False\n",
    "            \n",
    "    return True  # If no divisors found, it's prime"
   ]
  },
  {
   "cell_type": "code",
   "execution_count": null,
   "metadata": {},
   "outputs": [],
   "source": [
    "# Example usage\n",
    "# Test several common jersey numbers\n",
    "jersey_numbers = [1, 2, 3, 4, 5, 6, 7, 8, 9, 10, 11, 13, 17, 23]\n",
    "\n",
    "print(\"Jersey Number Analysis:\\n\")\n",
    "prime_jerseys = []\n",
    "non_prime_jerseys = []\n",
    "\n",
    "for number in jersey_numbers:\n",
    "    is_prime = is_prime_jersey_number(number)\n",
    "    result = \"PRIME\" if is_prime else \"not prime\"\n",
    "    print(f\"Jersey #{number} is {result}\")\n",
    "    \n",
    "    if is_prime:\n",
    "        prime_jerseys.append(number)\n",
    "    else:\n",
    "        non_prime_jerseys.append(number)\n",
    "\n",
    "print(f\"\\nPrime jersey numbers: {prime_jerseys}\")\n",
    "print(f\"Non-prime jersey numbers: {non_prime_jerseys}\")"
   ]
  },
  {
   "cell_type": "markdown",
   "metadata": {},
   "source": [
    "## 3. Season Extremes Finder\n",
    "\n",
    "This function finds the highest and lowest scoring matches in a season. It demonstrates the use of loops for finding minimum and maximum values."
   ]
  },
  {
   "cell_type": "code",
   "execution_count": null,
   "metadata": {},
   "outputs": [],
   "source": [
    "def find_season_extremes(match_scores):\n",
    "    \"\"\"\n",
    "    Find the highest and lowest scoring matches in a season.\n",
    "    \n",
    "    Args:\n",
    "        match_scores (list): A list of scores for each match\n",
    "        \n",
    "    Returns:\n",
    "        tuple: (highest_score, lowest_score)\n",
    "    \"\"\"\n",
    "    # Initialize with the first score\n",
    "    highest_score = match_scores[0]\n",
    "    lowest_score = match_scores[0]\n",
    "    \n",
    "    # Loop through all scores to find highest and lowest\n",
    "    for score in match_scores:\n",
    "        if score > highest_score:\n",
    "            highest_score = score\n",
    "        if score < lowest_score:\n",
    "            lowest_score = score\n",
    "            \n",
    "    return highest_score, lowest_score"
   ]
  },
  {
   "cell_type": "code",
   "execution_count": null,
   "metadata": {},
   "outputs": [],
   "source": [
    "# Example usage\n",
    "season_scores = [2, 0, 5, 1, 3, 2, 4, 0, 1, 6, 2, 3]\n",
    "\n",
    "highest, lowest = find_season_extremes(season_scores)\n",
    "\n",
    "print(f\"Season scores: {season_scores}\")\n",
    "print(f\"Highest score: {highest}\")\n",
    "print(f\"Lowest score: {lowest}\")\n",
    "\n",
    "# Calculate additional statistics\n",
    "avg_score = sum(season_scores) / len(season_scores)\n",
    "scores_sorted = sorted(season_scores)\n",
    "median_score = scores_sorted[len(scores_sorted) // 2] if len(scores_sorted) % 2 != 0 else \\\n",
    "               (scores_sorted[len(scores_sorted) // 2 - 1] + scores_sorted[len(scores_sorted) // 2]) / 2\n",
    "\n",
    "print(f\"Average score: {avg_score:.2f}\")\n",
    "print(f\"Median score: {median_score}\")"
   ]
  },
  {
   "cell_type": "markdown",
   "metadata": {},
   "source": [
    "## 4. Performance Tier Calculator\n",
    "\n",
    "This function converts a player's numerical rating to a performance tier. It demonstrates the use of multiple conditional checks with `if-elif-else` statements."
   ]
  },
  {
   "cell_type": "code",
   "execution_count": null,
   "metadata": {},
   "outputs": [],
   "source": [
    "def calculate_performance_tier(player_rating):\n",
    "    \"\"\"\n",
    "    Convert a player's numerical rating to a performance tier.\n",
    "    \n",
    "    Args:\n",
    "        player_rating (int): A number between 0 and 100 representing the player's rating\n",
    "        \n",
    "    Returns:\n",
    "        str: The performance tier corresponding to the rating\n",
    "    \"\"\"\n",
    "    if 90 <= player_rating <= 100:  # Top tier\n",
    "        return \"World Class\"\n",
    "    elif 80 <= player_rating < 90:  # Second tier\n",
    "        return \"Elite\"\n",
    "    elif 70 <= player_rating < 80:  # Third tier\n",
    "        return \"Quality\"\n",
    "    elif 60 <= player_rating < 70:  # Fourth tier\n",
    "        return \"Average\"\n",
    "    else:  # Bottom tier\n",
    "        return \"Development Prospect\""
   ]
  },
  {
   "cell_type": "code",
   "execution_count": null,
   "metadata": {},
   "outputs": [],
   "source": [
    "# Example usage\n",
    "player_ratings = {\n",
    "    \"Messi\": 95,\n",
    "    \"De Bruyne\": 88,\n",
    "    \"Müller\": 76,\n",
    "    \"Connolly\": 63,\n",
    "    \"Davis\": 55\n",
    "}\n",
    "\n",
    "print(\"Player Performance Tiers:\\n\")\n",
    "for player, rating in player_ratings.items():\n",
    "    tier = calculate_performance_tier(rating)\n",
    "    print(f\"{player} (Rating: {rating}) - {tier}\")\n",
    "\n",
    "# Group players by tier\n",
    "tiers = {}\n",
    "for player, rating in player_ratings.items():\n",
    "    tier = calculate_performance_tier(rating)\n",
    "    if tier not in tiers:\n",
    "        tiers[tier] = []\n",
    "    tiers[tier].append(player)\n",
    "\n",
    "print(\"\\nPlayers by Tier:\")\n",
    "for tier, players in tiers.items():\n",
    "    print(f\"{tier}: {', '.join(players)}\")"
   ]
  },
  {
   "cell_type": "markdown",
   "metadata": {},
   "source": [
    "## 5. Cumulative Goal Difference Calculator\n",
    "\n",
    "This function calculates the cumulative goal difference over a season. It demonstrates the use of loops to maintain a running total."
   ]
  },
  {
   "cell_type": "code",
   "execution_count": null,
   "metadata": {},
   "outputs": [],
   "source": [
    "def cumulative_goal_difference(goal_differences):\n",
    "    \"\"\"\n",
    "    Calculate the cumulative goal difference over a season.\n",
    "    \n",
    "    Args:\n",
    "        goal_differences (list): A list of goal differences for each match\n",
    "                               (positive for wins, negative for losses, 0 for draws)\n",
    "        \n",
    "    Returns:\n",
    "        list: A list of cumulative goal differences after each match\n",
    "    \"\"\"\n",
    "    cumulative = []\n",
    "    total = 0\n",
    "    \n",
    "    # Calculate running total\n",
    "    for diff in goal_differences:\n",
    "        total += diff  # Add current match's goal difference\n",
    "        cumulative.append(total)  # Add running total to the list\n",
    "        \n",
    "    return cumulative"
   ]
  },
  {
   "cell_type": "code",
   "execution_count": null,
   "metadata": {},
   "outputs": [],
   "source": [
    "# Example usage\n",
    "season_goal_diffs = [1, -1, 2, 0, -2, 3, 1, -1, 0, 2, -3, 1]\n",
    "cumulative_diffs = cumulative_goal_difference(season_goal_diffs)\n",
    "\n",
    "# Print individual and cumulative goal differences\n",
    "print(\"Match-by-Match Analysis:\\n\")\n",
    "print(\"Match | Goal Diff | Cumulative\")\n",
    "print(\"--------------------------\")\n",
    "for i, (diff, cum_diff) in enumerate(zip(season_goal_diffs, cumulative_diffs), 1):\n",
    "    print(f\"{i:5d} | {diff:9d} | {cum_diff:10d}\")\n",
    "\n",
    "# Calculate season summary\n",
    "wins = sum(1 for diff in season_goal_diffs if diff > 0)\n",
    "draws = sum(1 for diff in season_goal_diffs if diff == 0)\n",
    "losses = sum(1 for diff in season_goal_diffs if diff < 0)\n",
    "final_diff = cumulative_diffs[-1]\n",
    "\n",
    "print(f\"\\nSeason Summary:\")\n",
    "print(f\"Wins: {wins}, Draws: {draws}, Losses: {losses}\")\n",
    "print(f\"Final Goal Difference: {final_diff}\")"
   ]
  },
  {
   "cell_type": "markdown",
   "metadata": {},
   "source": [
    "## Summary\n",
    "\n",
    "In this notebook, we've explored several Python control flow structures through the lens of soccer analytics:\n",
    "\n",
    "1. **For Loops**: Used in all functions to iterate through lists and perform calculations\n",
    "2. **Conditional Statements**: Used for decision making based on values and criteria\n",
    "3. **Iterative Algorithms**: Used to find extremes, calculate running totals, and analyze patterns\n",
    "\n",
    "These control flow structures are fundamental to sports analytics, allowing us to process sequences of events, classify data, and calculate summary statistics for matches and seasons."
   ]
  }
 ],
 "metadata": {
  "kernelspec": {
   "display_name": "Python 3",
   "language": "python",
   "name": "python3"
  },
  "language_info": {
   "codemirror_mode": {
    "name": "ipython",
    "version": 3
   },
   "file_extension": ".py",
   "mimetype": "text/x-python",
   "name": "python",
   "nbconvert_exporter": "python",
   "pygments_lexer": "ipython3",
   "version": "3.12.0"
  }
 },
 "nbformat": 4,
 "nbformat_minor": 4
}