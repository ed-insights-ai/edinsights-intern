{
 "cells": [
  {
   "cell_type": "markdown",
   "metadata": {},
   "source": [
    "# Soccer Analytics: Data Structures\n",
    "\n",
    "This notebook explores Python's built-in data structures (lists, dictionaries, sets, and tuples) through the lens of soccer analytics. We'll implement and demonstrate functions that perform common data operations in sports analytics."
   ]
  },
  {
   "cell_type": "markdown",
   "metadata": {},
   "source": [
    "## 1. Unique Goal Scorers\n",
    "\n",
    "This function extracts a list of unique goal scorers from a match report while preserving the order in which they first scored."
   ]
  },
  {
   "cell_type": "code",
   "execution_count": null,
   "metadata": {},
   "outputs": [],
   "source": [
    "def unique_goal_scorers(match_report):\n",
    "    \"\"\"\n",
    "    Extract a list of unique goal scorers from a match report while preserving the order.\n",
    "    \n",
    "    Args:\n",
    "        match_report (list): A list of goal scorer names, which may contain duplicates\n",
    "                           for players who scored multiple goals\n",
    "        \n",
    "    Returns:\n",
    "        list: A list of unique goal scorers in the order they first scored\n",
    "    \"\"\"\n",
    "    seen = set()  # Using a set for O(1) lookups\n",
    "    unique_scorers = []\n",
    "    for scorer in match_report:\n",
    "        if scorer not in seen:\n",
    "            seen.add(scorer)\n",
    "            unique_scorers.append(scorer)\n",
    "    return unique_scorers"
   ]
  },
  {
   "cell_type": "code",
   "execution_count": null,
   "metadata": {},
   "outputs": [],
   "source": [
    "# Example usage\n",
    "match_report = ['Messi', 'Ronaldo', 'Messi', 'Neymar', 'Ronaldo']\n",
    "print(f\"Match report: {match_report}\")\n",
    "print(f\"Unique scorers: {unique_goal_scorers(match_report)}\")"
   ]
  },
  {
   "cell_type": "markdown",
   "metadata": {},
   "source": [
    "## 2. Merge Player Statistics\n",
    "\n",
    "This function merges player statistics from two different seasons, with the more recent season taking precedence."
   ]
  },
  {
   "cell_type": "code",
   "execution_count": null,
   "metadata": {},
   "outputs": [],
   "source": [
    "def merge_player_stats(season1_stats, season2_stats):\n",
    "    \"\"\"\n",
    "    Merge player statistics from two different seasons. \n",
    "    If a player appears in both seasons, use the most recent (season2) statistics.\n",
    "    \n",
    "    Args:\n",
    "        season1_stats (dict): Player statistics from season 1\n",
    "        season2_stats (dict): Player statistics from season 2\n",
    "        \n",
    "    Returns:\n",
    "        dict: Merged player statistics with season2 taking precedence for players in both seasons\n",
    "    \"\"\"\n",
    "    merged_stats = season1_stats.copy()  # Create a copy to avoid modifying the original\n",
    "    merged_stats.update(season2_stats)   # Update with season2 stats, which takes precedence\n",
    "    return merged_stats"
   ]
  },
  {
   "cell_type": "code",
   "execution_count": null,
   "metadata": {},
   "outputs": [],
   "source": [
    "# Example usage\n",
    "season1 = {'Messi': {'goals': 30, 'assists': 10}}\n",
    "season2 = {'Messi': {'goals': 25, 'assists': 15}, 'Ronaldo': {'goals': 28, 'assists': 5}}\n",
    "\n",
    "print(f\"Season 1 stats: {season1}\")\n",
    "print(f\"Season 2 stats: {season2}\")\n",
    "print(f\"Merged stats: {merge_player_stats(season1, season2)}\")"
   ]
  },
  {
   "cell_type": "markdown",
   "metadata": {},
   "source": [
    "## 3. Find Top Scorer\n",
    "\n",
    "This function identifies the player who scored the most goals in a series of matches."
   ]
  },
  {
   "cell_type": "code",
   "execution_count": null,
   "metadata": {},
   "outputs": [],
   "source": [
    "def find_top_scorer(match_goals):\n",
    "    \"\"\"\n",
    "    Find the player who scored the most goals in a series of matches.\n",
    "    If multiple players have the same highest number of goals, return any one of them.\n",
    "    \n",
    "    Args:\n",
    "        match_goals (list): A list of goal scorers across multiple matches\n",
    "        \n",
    "    Returns:\n",
    "        str: The name of the top goal scorer\n",
    "    \"\"\"\n",
    "    from collections import Counter\n",
    "    goal_counts = Counter(match_goals)  # Count occurrences of each player\n",
    "    return max(goal_counts, key=goal_counts.get)  # Get player with maximum count"
   ]
  },
  {
   "cell_type": "code",
   "execution_count": null,
   "metadata": {},
   "outputs": [],
   "source": [
    "# Example usage\n",
    "match_goals = ['Messi', 'Ronaldo', 'Messi', 'Neymar', 'Ronaldo', 'Messi']\n",
    "\n",
    "from collections import Counter\n",
    "goal_counts = Counter(match_goals)\n",
    "\n",
    "print(f\"All goals: {match_goals}\")\n",
    "print(f\"Goal counts: {dict(goal_counts)}\")\n",
    "print(f\"Top scorer: {find_top_scorer(match_goals)}\")"
   ]
  },
  {
   "cell_type": "markdown",
   "metadata": {},
   "source": [
    "## 4. Group Players by Position\n",
    "\n",
    "This function groups a list of player dictionaries by their positions."
   ]
  },
  {
   "cell_type": "code",
   "execution_count": null,
   "metadata": {},
   "outputs": [],
   "source": [
    "def group_players_by_position(players, position_key):\n",
    "    \"\"\"\n",
    "    Group a list of player dictionaries by their position.\n",
    "    \n",
    "    Args:\n",
    "        players (list): A list of player dictionaries\n",
    "        position_key (str): The key in each dictionary that specifies the player's position\n",
    "        \n",
    "    Returns:\n",
    "        dict: A dictionary where keys are positions and values are lists of players with that position\n",
    "    \"\"\"\n",
    "    grouped = {}\n",
    "    for player in players:\n",
    "        position = player[position_key]\n",
    "        if position not in grouped:\n",
    "            grouped[position] = []\n",
    "        grouped[position].append(player)\n",
    "    return grouped"
   ]
  },
  {
   "cell_type": "code",
   "execution_count": null,
   "metadata": {},
   "outputs": [],
   "source": [
    "# Example usage\n",
    "players = [\n",
    "    {'name': 'Alisson', 'position': 'Goalkeeper'}, \n",
    "    {'name': 'Van Dijk', 'position': 'Defender'},\n",
    "    {'name': 'Salah', 'position': 'Forward'},\n",
    "    {'name': 'Robertson', 'position': 'Defender'}\n",
    "]\n",
    "\n",
    "grouped_players = group_players_by_position(players, 'position')\n",
    "\n",
    "# Print each position group\n",
    "for position, players_list in grouped_players.items():\n",
    "    print(f\"\\n{position}:\")\n",
    "    for player in players_list:\n",
    "        print(f\"  - {player['name']}\")"
   ]
  },
  {
   "cell_type": "markdown",
   "metadata": {},
   "source": [
    "## 5. Total Tournament Goals\n",
    "\n",
    "This function calculates the total number of goals across all divisions and matches in a tournament."
   ]
  },
  {
   "cell_type": "code",
   "execution_count": null,
   "metadata": {},
   "outputs": [],
   "source": [
    "def total_tournament_goals(tournament_data):\n",
    "    \"\"\"\n",
    "    Calculate the total number of goals across all divisions and matches in a tournament.\n",
    "    The tournament data structure may contain nested lists and dictionaries.\n",
    "    \n",
    "    Args:\n",
    "        tournament_data (list): A nested structure of tournament data\n",
    "                              [division, [match, goals], ...]\n",
    "        \n",
    "    Returns:\n",
    "        int: The total number of goals in the tournament\n",
    "    \"\"\"\n",
    "    total_goals = 0\n",
    "    for item in tournament_data:\n",
    "        if isinstance(item, list):  # Check if item is a list (containing matches)\n",
    "            for match in item:\n",
    "                total_goals += match[1]  # Add the goals (second element in match list)\n",
    "    return total_goals"
   ]
  },
  {
   "cell_type": "code",
   "execution_count": null,
   "metadata": {},
   "outputs": [],
   "source": [
    "# Example usage\n",
    "tournament_data = [\n",
    "    'Division 1', \n",
    "    [\n",
    "        ['Match 1', 3],\n",
    "        ['Match 2', 2]\n",
    "    ],\n",
    "    'Division 2',\n",
    "    [\n",
    "        ['Match 1', 1],\n",
    "        ['Match 2', 4],\n",
    "        ['Match 3', 2]\n",
    "    ]\n",
    "]\n",
    "\n",
    "# Print tournament structure and goals by division\n",
    "division_goals = {}\n",
    "current_division = None\n",
    "\n",
    "for item in tournament_data:\n",
    "    if isinstance(item, str):  # This is a division name\n",
    "        current_division = item\n",
    "        division_goals[current_division] = 0\n",
    "    elif isinstance(item, list) and current_division:  # These are matches\n",
    "        for match in item:\n",
    "            division_goals[current_division] += match[1]\n",
    "\n",
    "print(\"Tournament Goals by Division:\")\n",
    "for division, goals in division_goals.items():\n",
    "    print(f\"{division}: {goals} goals\")\n",
    "\n",
    "print(f\"\\nTotal Tournament Goals: {total_tournament_goals(tournament_data)}\")"
   ]
  },
  {
   "cell_type": "markdown",
   "metadata": {},
   "source": [
    "## Summary\n",
    "\n",
    "In this notebook, we've explored several Python data structures through the lens of soccer analytics:\n",
    "\n",
    "1. **Sets and Lists**: Used to track unique goal scorers while preserving order\n",
    "2. **Dictionaries**: Used to merge player statistics and group players by position\n",
    "3. **Counter (from collections)**: Used to find the top scorer\n",
    "4. **Nested Structures**: Used to process complex tournament data\n",
    "\n",
    "These data structures are fundamental to sports analytics, allowing us to efficiently organize, process, and analyze player and match data."
   ]
  }
 ],
 "metadata": {
  "kernelspec": {
   "display_name": "Python 3",
   "language": "python",
   "name": "python3"
  },
  "language_info": {
   "codemirror_mode": {
    "name": "ipython",
    "version": 3
   },
   "file_extension": ".py",
   "mimetype": "text/x-python",
   "name": "python",
   "nbconvert_exporter": "python",
   "pygments_lexer": "ipython3",
   "version": "3.12.0"
  }
 },
 "nbformat": 4,
 "nbformat_minor": 4
}