{
 "cells": [
  {
   "cell_type": "markdown",
   "id": "af3f03ea",
   "metadata": {},
   "source": [
    "# Python Basics Exercise: Soccer Statistics\n",
    "This notebook covers basic Python syntax, data types, and operations while introducing soccer data concepts."
   ]
  },
  {
   "cell_type": "markdown",
   "id": "caa63406",
   "metadata": {},
   "source": [
    "## Function: Calculate Goals Per Game\n",
    "This function calculates the average goals per game for a soccer player."
   ]
  },
  {
   "cell_type": "code",
   "execution_count": null,
   "id": "384c6350",
   "metadata": {},
   "outputs": [],
   "source": [
    "def calculate_goals_per_game(goals, games_played):\n",
    "    \"\"\"\n",
    "    Calculate the average goals per game for a soccer player.\n",
    "    \"\"\"\n",
    "    if games_played == 0:\n",
    "        return 0\n",
    "    return sum(goals) / games_played\n",
    "\n",
    "# Example usage\n",
    "print(calculate_goals_per_game([1, 0, 2, 1], 4))  # Output: 1.0"
   ]
  },
  {
   "cell_type": "markdown",
   "id": "bb3fbc1c",
   "metadata": {},
   "source": [
    "## Function: Reverse Team Name\n",
    "This function reverses a soccer team name, useful for creating scrambled team names for quizzes."
   ]
  },
  {
   "cell_type": "code",
   "execution_count": null,
   "id": "fb56af5d",
   "metadata": {},
   "outputs": [],
   "source": [
    "def reverse_team_name(team_name):\n",
    "    \"\"\"\n",
    "    Reverse a soccer team name.\n",
    "    \"\"\"\n",
    "    return team_name[::-1]\n",
    "\n",
    "# Example usage\n",
    "print(reverse_team_name(\"Manchester United\"))  # Output: \"detinU retsehcnaM\""
   ]
  },
  {
   "cell_type": "markdown",
   "id": "758d0ff8",
   "metadata": {},
   "source": [
    "## Function: Count Words in Chant\n",
    "This function counts the number of words in a soccer chant or team motto."
   ]
  },
  {
   "cell_type": "code",
   "execution_count": null,
   "id": "d69b6084",
   "metadata": {},
   "outputs": [],
   "source": [
    "def count_words_in_chant(chant):\n",
    "    \"\"\"\n",
    "    Count the number of words in a soccer chant or team motto.\n",
    "    \"\"\"\n",
    "    return len(chant.split())\n",
    "\n",
    "# Example usage\n",
    "print(count_words_in_chant(\"You'll Never Walk Alone\"))  # Output: 4"
   ]
  },
  {
   "cell_type": "markdown",
   "id": "d82be41f",
   "metadata": {},
   "source": [
    "## Function: Kilometers to Miles\n",
    "This function converts distance from kilometers to miles, useful for comparing European and American soccer statistics."
   ]
  },
  {
   "cell_type": "code",
   "execution_count": null,
   "id": "3cebee1a",
   "metadata": {},
   "outputs": [],
   "source": [
    "def km_to_miles(kilometers):\n",
    "    \"\"\"\n",
    "    Convert distance from kilometers to miles.\n",
    "    \"\"\"\n",
    "    return kilometers * 0.621371\n",
    "\n",
    "# Example usage\n",
    "print(km_to_miles(10))  # Output: 6.21371"
   ]
  },
  {
   "cell_type": "markdown",
   "id": "0cee5ac0",
   "metadata": {},
   "source": [
    "## Function: Is Palindrome Formation\n",
    "This function checks if a soccer formation is a palindrome when spaces are removed."
   ]
  },
  {
   "cell_type": "code",
   "execution_count": null,
   "id": "c957ba22",
   "metadata": {},
   "outputs": [],
   "source": [
    "def is_palindrome_formation(formation):\n",
    "    \"\"\"\n",
    "    Check if a soccer formation is a palindrome when spaces are removed.\n",
    "    \"\"\"\n",
    "    cleaned = formation.replace(\"-\", \"\")\n",
    "    return cleaned == cleaned[::-1]\n",
    "\n",
    "# Example usage\n",
    "print(is_palindrome_formation(\"4-4-2\"))  # Output: False\n",
    "print(is_palindrome_formation(\"4-2-2-4\"))  # Output: True\n",
    "print(is_palindrome_formation(\"1-2-3-2-1\"))  # Output: True"
   ]
  },
  {
   "cell_type": "markdown",
   "id": "6c3a872f",
   "metadata": {},
   "source": [
    "## Testing All Functions\n",
    "The following code tests all the implemented functions."
   ]
  },
  {
   "cell_type": "code",
   "execution_count": null,
   "id": "28d17b4f",
   "metadata": {},
   "outputs": [],
   "source": [
    "def main():\n",
    "    \"\"\"Run some examples to test your functions.\"\"\"\n",
    "    print(\"Testing calculate_goals_per_game...\")\n",
    "    print(f\"calculate_goals_per_game([1, 0, 2, 1], 4) = {calculate_goals_per_game([1, 0, 2, 1], 4)}\")\n",
    "    \n",
    "    print(\"\\nTesting reverse_team_name...\")\n",
    "    print(f\"reverse_team_name('Manchester United') = {reverse_team_name('Manchester United')}\")\n",
    "    \n",
    "    print(\"\\nTesting count_words_in_chant...\")\n",
    "    print(f\"count_words_in_chant('You\\\\'ll Never Walk Alone') = {count_words_in_chant('You\\\\'ll Never Walk Alone')}\")\n",
    "    \n",
    "    print(\"\\nTesting km_to_miles...\")\n",
    "    print(f\"km_to_miles(10) = {km_to_miles(10)}\")\n",
    "    \n",
    "    print(\"\\nTesting is_palindrome_formation...\")\n",
    "    print(f\"is_palindrome_formation('4-4-2') = {is_palindrome_formation('4-4-2')}\")\n",
    "    print(f\"is_palindrome_formation('4-2-2-4') = {is_palindrome_formation('4-2-2-4')}\")\n",
    "    print(f\"is_palindrome_formation('1-2-3-2-1') = {is_palindrome_formation('1-2-3-2-1')}\")\n",
    "\n",
    "# Run the main function\n",
    "main()"
   ]
  }
 ],
 "metadata": {
  "language_info": {
   "name": "python"
  }
 },
 "nbformat": 4,
 "nbformat_minor": 5
}
