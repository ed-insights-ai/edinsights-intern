{
 "cells": [
  {
   "cell_type": "markdown",
   "metadata": {},
   "source": "# NCAA Soccer Player Analysis - Goals Per Game\n\nThis notebook explains how the `goals_per_game.py` script works. The script is designed to calculate average goals per game for NCAA soccer players using data from a CSV file.",
   "outputs": []
  },
  {
   "cell_type": "markdown",
   "metadata": {},
   "source": "## 1. Understanding the CSV Data Structure\n\nFirst, let's examine the CSV file structure that stores our player data:",
   "outputs": []
  },
  {
   "cell_type": "code",
   "metadata": {},
   "outputs": [],
   "source": "import pandas as pd\n\n# Load the CSV file\nplayer_data = pd.read_csv('player_goals.csv')\n\n# Display the structure\nprint(\"CSV File Structure:\")\nprint(player_data.head(10))\n\n# Basic information about the data\nprint(\"\\nData Information:\")\nprint(f\"Number of rows: {len(player_data)}\")\nprint(f\"Columns: {', '.join(player_data.columns)}\")\nprint(f\"Unique players: {player_data['player_name'].nunique()}\")\nprint(f\"Total games: {player_data['game_id'].nunique()}\")\nprint(f\"Total goals: {player_data['goals'].sum()}\")"
  },
  {
   "cell_type": "markdown",
   "metadata": {},
   "source": "## 2. Loading Data from CSV\n\nThe script uses a function to load data from the CSV file. Let's examine how this works:",
   "outputs": []
  },
  {
   "cell_type": "code",
   "metadata": {},
   "source": "import os\n\ndef load_data_from_csv(csv_file):\n    \"\"\"\n    Load player goals data from a CSV file.\n    \n    Args:\n        csv_file (str): Path to the CSV file\n        \n    Returns:\n        dict: Dictionary mapping player names to their goals data\n    \"\"\"\n    if not os.path.exists(csv_file):\n        print(f\"Error: File {csv_file} not found\")\n        return {}\n    \n    player_data = {}\n    \n    df = pd.read_csv(csv_file)\n    \n    for _, player in df.groupby('player_name'):\n        name = player['player_name'].iloc[0]\n        goals_list = player['goals'].tolist()\n        games_played = len(goals_list)\n        \n        player_data[name] = {\n            'goals': goals_list,\n            'games_played': games_played\n        }\n    \n    return player_data\n\n# Let's load the data and see what we get\ncsv_file = 'player_goals.csv'\nplayer_data = load_data_from_csv(csv_file)\n\n# Display the structured data\nprint(\"Processed Player Data:\")\nfor player_name, data in player_data.items():\n    print(f\"\\nPlayer: {player_name}\")\n    print(f\"  Goals in each game: {data['goals']}\")\n    print(f\"  Games played: {data['games_played']}\")\n    print(f\"  Total goals: {sum(data['goals'])}\")",
   "outputs": []
  },
  {
   "cell_type": "markdown",
   "metadata": {},
   "outputs": [],
   "source": "## 3. Goals Per Game Calculation Function\n\nHere's the core function that calculates the average goals per game:"
  },
  {
   "cell_type": "code",
   "metadata": {},
   "source": "def calculate_goals_per_game(goals, games_played):\n    \"\"\"\n    Calculate the average goals per game for a soccer player.\n    \n    Args:\n        goals (list): A list of goals scored in each game\n        games_played (int): Number of games played\n        \n    Returns:\n        float: The average goals per game, or 0 if no games were played\n        \n    Example:\n        >>> calculate_goals_per_game([1, 0, 2, 1], 4)\n        1.0\n    \"\"\"\n    if games_played == 0:\n        return 0.0\n    \n    total_goals = sum(goals)\n    return total_goals / games_played\n\n# Calculate goals per game for each player\nprint(\"Goals Per Game Calculations:\")\nfor player_name, data in player_data.items():\n    goals = data['goals']\n    games = data['games_played']\n    avg = calculate_goals_per_game(goals, games)\n    \n    print(f\"\\nPlayer: {player_name}\")\n    print(f\"  Goals: {goals}\")\n    print(f\"  Games: {games}\")\n    print(f\"  Average: {avg:.2f} goals per game\")",
   "outputs": []
  },
  {
   "cell_type": "markdown",
   "metadata": {},
   "outputs": [],
   "source": "## 4. Visualizing Player Statistics\n\nLet's visualize the data to better understand player performance:"
  },
  {
   "cell_type": "code",
   "metadata": {},
   "source": "import matplotlib.pyplot as plt\nimport numpy as np\n\n# Calculate stats for each player\nplayer_names = []\ntotal_goals = []\navg_goals = []\ngames_played = []\n\nfor name, data in player_data.items():\n    player_names.append(name)\n    total_goals.append(sum(data['goals']))\n    games_played.append(data['games_played'])\n    avg_goals.append(calculate_goals_per_game(data['goals'], data['games_played']))\n\n# Create a figure with multiple subplots\nfig, axs = plt.subplots(2, 2, figsize=(14, 10))\n\n# Plot 1: Total goals per player\naxs[0, 0].bar(player_names, total_goals, color='blue')\naxs[0, 0].set_title('Total Goals by Player')\naxs[0, 0].set_ylabel('Total Goals')\naxs[0, 0].set_xticklabels(player_names, rotation=45, ha='right')\naxs[0, 0].grid(True, alpha=0.3)\n\n# Plot 2: Games played per player\naxs[0, 1].bar(player_names, games_played, color='green')\naxs[0, 1].set_title('Games Played by Player')\naxs[0, 1].set_ylabel('Games Played')\naxs[0, 1].set_xticklabels(player_names, rotation=45, ha='right')\naxs[0, 1].grid(True, alpha=0.3)\n\n# Plot 3: Average goals per game\naxs[1, 0].bar(player_names, avg_goals, color='red')\naxs[1, 0].set_title('Average Goals per Game')\naxs[1, 0].set_ylabel('Goals per Game')\naxs[1, 0].set_xticklabels(player_names, rotation=45, ha='right')\naxs[1, 0].grid(True, alpha=0.3)\n\n# Plot 4: Goals per game by player (as line charts)\naxs[1, 1].set_title('Goals in Each Game by Player')\naxs[1, 1].set_xlabel('Game Number')\naxs[1, 1].set_ylabel('Goals Scored')\naxs[1, 1].grid(True, alpha=0.3)\n\ncolors = ['blue', 'orange', 'green', 'red', 'purple', 'brown']\nfor i, (name, data) in enumerate(player_data.items()):\n    color = colors[i % len(colors)]\n    games = range(1, len(data['goals']) + 1)\n    axs[1, 1].plot(games, data['goals'], marker='o', label=name, color=color)\n\naxs[1, 1].legend()\n\nplt.tight_layout()\nplt.show()",
   "outputs": []
  },
  {
   "cell_type": "markdown",
   "metadata": {},
   "outputs": [],
   "source": "## 5. Pandas Analysis for Advanced Insights\n\nWe can use pandas to perform more advanced analysis on our player data:"
  },
  {
   "cell_type": "code",
   "metadata": {},
   "source": "# Load the data\ndf = pd.read_csv('player_goals.csv')\n\n# Create a player summary\nplayer_summary = df.groupby('player_name').agg(\n    total_goals=('goals', 'sum'),\n    games_played=('game_id', 'count'),\n    avg_goals=('goals', lambda x: x.mean())\n).sort_values('avg_goals', ascending=False)\n\n# Add consistency metrics (standard deviation of goals)\nplayer_std = df.groupby('player_name')['goals'].std().fillna(0)\nplayer_summary['consistency'] = player_std\n\n# Display the summary\nprint(\"Player Performance Summary:\")\nprint(player_summary)\n\n# Identify top performers\nprint(\"\\nTop Scorer (Total Goals):\")\nprint(player_summary.sort_values('total_goals', ascending=False).head(1))\n\nprint(\"\\nBest Average (Goals per Game):\")\nprint(player_summary.sort_values('avg_goals', ascending=False).head(1))\n\nprint(\"\\nMost Consistent Player (Lowest StdDev):\")\nprint(player_summary[player_summary['games_played'] > 1].sort_values('consistency').head(1))",
   "outputs": []
  },
  {
   "cell_type": "markdown",
   "metadata": {},
   "outputs": [],
   "source": "## 6. Full Python Script Breakdown\n\nThe complete `goals_per_game.py` script combines all of these elements:\n\n1. **Imports**: Loads necessary libraries (pandas, rich)\n2. **Data Loading**: Reads player data from a CSV file\n3. **Data Processing**: Groups by player and calculates stats\n4. **Calculation**: Computes goals per game average\n5. **Visualization**: Displays results in a formatted table\n6. **Fallback**: Includes example data if CSV isn't found\n\nThe script structure follows good practices:\n- Modular functions with clear responsibilities\n- Proper error handling for file operations\n- Well-documented code with docstrings\n- User-friendly output formatting"
  },
  {
   "cell_type": "markdown",
   "metadata": {},
   "source": "## 7. Summary and Next Steps\n\nThis notebook has explained how the `goals_per_game.py` script works with CSV data to calculate and display player statistics.\n\n**Key concepts covered:**\n- Reading data from CSV files with pandas\n- Grouping and aggregating player statistics\n- Calculating per-game averages\n- Visualizing player performance\n- Displaying formatted output with rich\n\n**Potential next steps:**\n- Add more advanced metrics (scoring rate, game impact)\n- Implement filtering by game date or opponent\n- Add team-level statistics\n- Create visualizations for trends over time\n- Add data validation for CSV input",
   "outputs": []
  }
 ],
 "metadata": {
  "kernelspec": {
   "display_name": ".venv",
   "language": "python",
   "name": "python3"
  },
  "language_info": {
   "codemirror_mode": {
    "name": "ipython",
    "version": 3
   },
   "file_extension": ".py",
   "mimetype": "text/x-python",
   "name": "python",
   "nbconvert_exporter": "python",
   "pygments_lexer": "ipython3",
   "version": "3.12.10"
  }
 },
 "nbformat": 4,
 "nbformat_minor": 4
}