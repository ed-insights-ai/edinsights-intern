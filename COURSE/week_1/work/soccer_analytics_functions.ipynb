{
 "cells": [
  {
   "cell_type": "markdown",
   "metadata": {},
   "source": [
    "# Function Workshop: Soccer Analytics\n",
    "\n",
    "This notebook implements soccer analytics functions based on the functions.py module.\n",
    "Each function focuses on a different aspect of soccer analytics."
   ]
  },
  {
   "cell_type": "markdown",
   "metadata": {},
   "source": [
    "## 1. Calculate Win Percentage\n",
    "\n",
    "Calculate the win percentage for a soccer team using a weighted formula."
   ]
  },
  {
   "cell_type": "code",
   "execution_count": 2,
   "metadata": {},
   "outputs": [],
   "source": [
    "def calculate_win_percentage(wins, draws, losses):\n",
    "    \"\"\"\n",
    "    Calculate the win percentage for a soccer team.\n",
    "    \n",
    "    The formula is: (wins + draws * 0.5) / total_matches * 100\n",
    "    \n",
    "    Args:\n",
    "        wins (int): Number of wins\n",
    "        draws (int): Number of draws\n",
    "        losses (int): Number of losses\n",
    "        \n",
    "    Returns:\n",
    "        float: The win percentage (0-100)\n",
    "    \"\"\"\n",
    "    return (wins + draws * 0.5) / (wins + draws + losses) * 100"
   ]
  },
  {
   "cell_type": "code",
   "execution_count": 3,
   "metadata": {},
   "outputs": [
    {
     "name": "stdout",
     "output_type": "stream",
     "text": [
      "Win percentage for 10 wins, 5 draws, 5 losses: 62.50%\n"
     ]
    }
   ],
   "source": [
    "# Test the function\n",
    "print(f\"Win percentage for 10 wins, 5 draws, 5 losses: {calculate_win_percentage(10, 5, 5):.2f}%\")"
   ]
  },
  {
   "cell_type": "markdown",
   "metadata": {},
   "source": [
    "## 2. Format Player Information\n",
    "\n",
    "Create standardized string representations of player information."
   ]
  },
  {
   "cell_type": "code",
   "execution_count": 5,
   "metadata": {},
   "outputs": [],
   "source": [
    "def format_player_info(first_name, last_name, position, team=None, jersey_number=None):\n",
    "    \"\"\"\n",
    "    Format player information into a standard string representation.\n",
    "    \n",
    "    Args:\n",
    "        first_name (str): Player's first name\n",
    "        last_name (str): Player's last name\n",
    "        position (str): Player's position\n",
    "        team (str, optional): Player's team. Defaults to None.\n",
    "        jersey_number (int, optional): Player's jersey number. Defaults to None.\n",
    "        \n",
    "    Returns:\n",
    "        str: Formatted player information\n",
    "    \"\"\"\n",
    "    info = f\"{first_name} {last_name} ({position}\"\n",
    "    if jersey_number:\n",
    "        info += f\", #{jersey_number}\"\n",
    "    info += \")\"\n",
    "    if team:\n",
    "        info += f\" - {team}\"\n",
    "    return info"
   ]
  },
  {
   "cell_type": "code",
   "execution_count": 6,
   "metadata": {},
   "outputs": [
    {
     "name": "stdout",
     "output_type": "stream",
     "text": [
      "Lionel Messi (Forward, #10) - Inter Miami\n",
      "Cristiano Ronaldo (Forward)\n"
     ]
    }
   ],
   "source": [
    "# Test with complete information\n",
    "print(format_player_info(\"Lionel\", \"Messi\", \"Forward\", \"Inter Miami\", 10))\n",
    "\n",
    "# Test with partial information\n",
    "print(format_player_info(\"Cristiano\", \"Ronaldo\", \"Forward\"))"
   ]
  },
  {
   "cell_type": "markdown",
   "metadata": {},
   "source": [
    "## 3. Calculate Points\n",
    "\n",
    "Calculate total points from match results using variable arguments."
   ]
  },
  {
   "cell_type": "code",
   "execution_count": 7,
   "metadata": {},
   "outputs": [],
   "source": [
    "def calculate_points(*match_results):\n",
    "    \"\"\"\n",
    "    Calculate total points earned from a series of match results.\n",
    "\n",
    "    In soccer, a win is worth 3 points, a draw is worth 1 point,\n",
    "    and a loss is worth 0 points.\n",
    "\n",
    "    Args:\n",
    "        *match_results: Variable number of match results ('W', 'D', or 'L')\n",
    "\n",
    "    Returns:\n",
    "        int: Total points earned\n",
    "    \"\"\"\n",
    "    points = 0\n",
    "    for result in match_results:\n",
    "        if result == 'W':\n",
    "            points += 3\n",
    "        elif result == 'D':\n",
    "            points += 1\n",
    "        # Loss ('L') adds 0 points, so no need to handle explicitly\n",
    "    return points"
   ]
  },
  {
   "cell_type": "code",
   "execution_count": 8,
   "metadata": {},
   "outputs": [
    {
     "name": "stdout",
     "output_type": "stream",
     "text": [
      "Match results: ['W', 'D', 'W', 'L', 'D']\n",
      "Total points: 8\n"
     ]
    }
   ],
   "source": [
    "# Test with different match results\n",
    "results = ['W', 'D', 'W', 'L', 'D']\n",
    "print(f\"Match results: {results}\")\n",
    "print(f\"Total points: {calculate_points(*results)}\")"
   ]
  },
  {
   "cell_type": "markdown",
   "metadata": {},
   "source": [
    "## 4. Analyze Match Statistics\n",
    "\n",
    "Analyze team statistics to determine strengths and weaknesses."
   ]
  },
  {
   "cell_type": "code",
   "execution_count": 9,
   "metadata": {},
   "outputs": [],
   "source": [
    "def analyze_match_stats(team_stats, opponent_stats):\n",
    "    \"\"\"\n",
    "    Analyze match statistics and determine areas of strength and weakness.\n",
    "    \n",
    "    Args:\n",
    "        team_stats (dict): Dictionary containing team statistics\n",
    "        opponent_stats (dict): Dictionary containing opponent statistics\n",
    "        \n",
    "    Returns:\n",
    "        dict: Dictionary containing analysis results with the following keys:\n",
    "            - 'possession_difference': Difference in possession percentage\n",
    "            - 'shots_accuracy': Team's shots on target as a percentage of total shots\n",
    "            - 'passing_accuracy': Team's completed passes as a percentage of total passes\n",
    "            - 'strengths': List of areas where team outperformed opponent\n",
    "            - 'weaknesses': List of areas where opponent outperformed team\n",
    "    \"\"\"\n",
    "    possession_difference = team_stats['possession'] - opponent_stats['possession']\n",
    "    shots_accuracy = round((team_stats['shots_on_target'] / team_stats['shots']) * 100, 2)\n",
    "    passing_accuracy = round((team_stats['passes_completed'] / team_stats['passes']) * 100, 2)\n",
    "\n",
    "    strengths = []\n",
    "    weaknesses = []\n",
    "\n",
    "    for key in team_stats:\n",
    "        if key in opponent_stats and key != 'fouls':  # Exclude 'fouls' from strengths/weaknesses\n",
    "            if team_stats[key] > opponent_stats[key]:\n",
    "                strengths.append(key)\n",
    "            elif team_stats[key] < opponent_stats[key]:\n",
    "                weaknesses.append(key)\n",
    "\n",
    "    if team_stats['fouls'] < opponent_stats['fouls']:\n",
    "        strengths.append('fouls')\n",
    "    elif team_stats['fouls'] > opponent_stats['fouls']:\n",
    "        weaknesses.append('fouls')\n",
    "\n",
    "    return {\n",
    "        'possession_difference': possession_difference,\n",
    "        'shots_accuracy': shots_accuracy,\n",
    "        'passing_accuracy': passing_accuracy,\n",
    "        'strengths': strengths,\n",
    "        'weaknesses': weaknesses\n",
    "    }"
   ]
  },
  {
   "cell_type": "code",
   "execution_count": 10,
   "metadata": {},
   "outputs": [
    {
     "name": "stdout",
     "output_type": "stream",
     "text": [
      "Match Analysis:\n",
      "Possession Difference: 20%\n",
      "Shots Accuracy: 46.67%\n",
      "Passing Accuracy: 90.0%\n",
      "Strengths: possession, shots, shots_on_target, passes, passes_completed, corners, fouls\n",
      "Weaknesses: \n"
     ]
    }
   ],
   "source": [
    "# Sample team statistics\n",
    "team_stats = {\n",
    "    'possession': 60,\n",
    "    'shots': 15,\n",
    "    'shots_on_target': 7,\n",
    "    'passes': 500,\n",
    "    'passes_completed': 450,\n",
    "    'corners': 7,\n",
    "    'fouls': 10\n",
    "}\n",
    "\n",
    "opponent_stats = {\n",
    "    'possession': 40,\n",
    "    'shots': 10,\n",
    "    'shots_on_target': 3,\n",
    "    'passes': 300,\n",
    "    'passes_completed': 250,\n",
    "    'corners': 3,\n",
    "    'fouls': 15\n",
    "}\n",
    "\n",
    "# Analyze the match\n",
    "analysis_result = analyze_match_stats(team_stats, opponent_stats)\n",
    "\n",
    "# Display the analysis results\n",
    "print(\"Match Analysis:\")\n",
    "print(f\"Possession Difference: {analysis_result['possession_difference']}%\")\n",
    "print(f\"Shots Accuracy: {analysis_result['shots_accuracy']}%\")\n",
    "print(f\"Passing Accuracy: {analysis_result['passing_accuracy']}%\")\n",
    "print(f\"Strengths: {', '.join(analysis_result['strengths'])}\")\n",
    "print(f\"Weaknesses: {', '.join(analysis_result['weaknesses'])}\")"
   ]
  },
  {
   "cell_type": "markdown",
   "metadata": {},
   "source": [
    "## 5. Generate League Table\n",
    "\n",
    "Create a sorted league standings table from team results."
   ]
  },
  {
   "cell_type": "code",
   "execution_count": 11,
   "metadata": {},
   "outputs": [],
   "source": [
    "def generate_league_table(team_results):\n",
    "    \"\"\"\n",
    "    Generate a league table (standings) from team results.\n",
    "    \n",
    "    Args:\n",
    "        team_results (dict): Dictionary where keys are team names and values are lists\n",
    "                             of match results ('W', 'D', or 'L')\n",
    "        \n",
    "    Returns:\n",
    "        list: List of dictionaries, each containing the following keys:\n",
    "            - 'team': Team name\n",
    "            - 'played': Number of matches played\n",
    "            - 'won': Number of matches won\n",
    "            - 'drawn': Number of matches drawn\n",
    "            - 'lost': Number of matches lost\n",
    "            - 'points': Total points earned\n",
    "        The list should be sorted by points in descending order.\n",
    "    \"\"\"\n",
    "    league_table = []\n",
    "\n",
    "    for team, results in team_results.items():\n",
    "        played = len(results)\n",
    "        won = results.count('W')\n",
    "        drawn = results.count('D')\n",
    "        lost = results.count('L')\n",
    "        points = won * 3 + drawn * 1\n",
    "\n",
    "        league_table.append({\n",
    "            'team': team,\n",
    "            'played': played,\n",
    "            'won': won,\n",
    "            'drawn': drawn,\n",
    "            'lost': lost,\n",
    "            'points': points\n",
    "        })\n",
    "\n",
    "    league_table.sort(key=lambda x: x['points'], reverse=True)\n",
    "    return league_table"
   ]
  },
  {
   "cell_type": "code",
   "execution_count": 12,
   "metadata": {},
   "outputs": [
    {
     "name": "stdout",
     "output_type": "stream",
     "text": [
      "League Standings:\n",
      "Pos   Team       Played   W     D     L     Points  \n",
      "--------------------------------------------------\n",
      "1     Team A     5        3     1     1     10      \n",
      "2     Team B     5        2     2     1     8       \n",
      "3     Team C     5        0     2     3     2       \n"
     ]
    }
   ],
   "source": [
    "# Sample team results\n",
    "team_results = {\n",
    "    'Team A': ['W', 'W', 'D', 'L', 'W'],\n",
    "    'Team B': ['L', 'W', 'D', 'W', 'D'],\n",
    "    'Team C': ['D', 'L', 'L', 'D', 'L']\n",
    "}\n",
    "\n",
    "# Generate the league table\n",
    "league_table = generate_league_table(team_results)\n",
    "\n",
    "# Display the league table with formatting\n",
    "print(\"League Standings:\")\n",
    "print(\"{:<5} {:<10} {:<8} {:<5} {:<5} {:<5} {:<8}\".format(\n",
    "    \"Pos\", \"Team\", \"Played\", \"W\", \"D\", \"L\", \"Points\"\n",
    "))\n",
    "print(\"-\" * 50)\n",
    "\n",
    "for i, team in enumerate(league_table, 1):\n",
    "    print(\"{:<5} {:<10} {:<8} {:<5} {:<5} {:<5} {:<8}\".format(\n",
    "        i,\n",
    "        team['team'],\n",
    "        team['played'],\n",
    "        team['won'],\n",
    "        team['drawn'],\n",
    "        team['lost'],\n",
    "        team['points']\n",
    "    ))"
   ]
  },
  {
   "cell_type": "markdown",
   "metadata": {},
   "source": [
    "## Interactive Experimentation\n",
    "\n",
    "Below are some cells for you to try out the functions with your own data."
   ]
  },
  {
   "cell_type": "code",
   "execution_count": 13,
   "metadata": {},
   "outputs": [
    {
     "name": "stdout",
     "output_type": "stream",
     "text": [
      "Win percentage: 66.67%\n"
     ]
    }
   ],
   "source": [
    "# Try calculating win percentage with different records\n",
    "# Format: calculate_win_percentage(wins, draws, losses)\n",
    "\n",
    "# Example: A team with 12 wins, 8 draws, and 4 losses\n",
    "win_percentage = calculate_win_percentage(12, 8, 4)\n",
    "print(f\"Win percentage: {win_percentage:.2f}%\")"
   ]
  },
  {
   "cell_type": "code",
   "execution_count": 14,
   "metadata": {},
   "outputs": [
    {
     "name": "stdout",
     "output_type": "stream",
     "text": [
      "Kevin De Bruyne (Midfielder, #17) - Manchester City\n"
     ]
    }
   ],
   "source": [
    "# Try formatting different player information\n",
    "# Format: format_player_info(first_name, last_name, position, team, jersey_number)\n",
    "\n",
    "# Add your own players here\n",
    "player_info = format_player_info(\"Kevin\", \"De Bruyne\", \"Midfielder\", \"Manchester City\", 17)\n",
    "print(player_info)"
   ]
  },
  {
   "cell_type": "code",
   "execution_count": 15,
   "metadata": {},
   "outputs": [
    {
     "name": "stdout",
     "output_type": "stream",
     "text": [
      "Results: ['W', 'W', 'W', 'D', 'L', 'W', 'D']\n",
      "Total points: 14\n"
     ]
    }
   ],
   "source": [
    "# Try calculating points from different match results\n",
    "# Format: calculate_points('W', 'D', 'L', ...)\n",
    "\n",
    "# Create your own series of match results\n",
    "my_results = ['W', 'W', 'W', 'D', 'L', 'W', 'D']\n",
    "points = calculate_points(*my_results)\n",
    "print(f\"Results: {my_results}\")\n",
    "print(f\"Total points: {points}\")"
   ]
  },
  {
   "cell_type": "code",
   "execution_count": 16,
   "metadata": {},
   "outputs": [
    {
     "name": "stdout",
     "output_type": "stream",
     "text": [
      "Analysis: {'possession_difference': 10, 'shots_accuracy': 50.0, 'passing_accuracy': 87.27, 'strengths': ['possession', 'shots', 'shots_on_target', 'passes', 'passes_completed', 'corners', 'fouls'], 'weaknesses': []}\n"
     ]
    }
   ],
   "source": [
    "# Try analyzing match statistics with custom data\n",
    "# Create dictionaries with keys for: possession, shots, shots_on_target, \n",
    "# passes, passes_completed, corners, fouls\n",
    "\n",
    "# Add your own match statistics here\n",
    "my_team = {\n",
    "    'possession': 55,\n",
    "    'shots': 18,\n",
    "    'shots_on_target': 9,\n",
    "    'passes': 550,\n",
    "    'passes_completed': 480,\n",
    "    'corners': 8,\n",
    "    'fouls': 12\n",
    "}\n",
    "\n",
    "my_opponent = {\n",
    "    'possession': 45,\n",
    "    'shots': 12,\n",
    "    'shots_on_target': 5,\n",
    "    'passes': 350,\n",
    "    'passes_completed': 290,\n",
    "    'corners': 5,\n",
    "    'fouls': 14\n",
    "}\n",
    "\n",
    "my_analysis = analyze_match_stats(my_team, my_opponent)\n",
    "print(f\"Analysis: {my_analysis}\")"
   ]
  },
  {
   "cell_type": "code",
   "execution_count": 17,
   "metadata": {},
   "outputs": [
    {
     "name": "stdout",
     "output_type": "stream",
     "text": [
      "Custom League Table:\n",
      "1. Barcelona - Points: 13 (W:4, D:1, L:0)\n",
      "2. Real Madrid - Points: 12 (W:4, D:0, L:1)\n",
      "3. Atletico Madrid - Points: 10 (W:3, D:1, L:1)\n",
      "4. Sevilla - Points: 7 (W:2, D:1, L:2)\n"
     ]
    }
   ],
   "source": [
    "# Try generating a league table with custom team results\n",
    "# Format: {'Team Name': ['W', 'D', 'L', ...]}\n",
    "\n",
    "# Add your own league data here\n",
    "my_league = {\n",
    "    'Barcelona': ['W', 'W', 'W', 'D', 'W'],\n",
    "    'Real Madrid': ['W', 'W', 'L', 'W', 'W'],\n",
    "    'Atletico Madrid': ['D', 'W', 'W', 'L', 'W'],\n",
    "    'Sevilla': ['L', 'D', 'W', 'W', 'L']\n",
    "}\n",
    "\n",
    "my_table = generate_league_table(my_league)\n",
    "print(\"Custom League Table:\")\n",
    "for i, team in enumerate(my_table, 1):\n",
    "    print(f\"{i}. {team['team']} - Points: {team['points']} (W:{team['won']}, D:{team['drawn']}, L:{team['lost']})\")"
   ]
  }
 ],
 "metadata": {
  "kernelspec": {
   "display_name": "base",
   "language": "python",
   "name": "python3"
  },
  "language_info": {
   "codemirror_mode": {
    "name": "ipython",
    "version": 3
   },
   "file_extension": ".py",
   "mimetype": "text/x-python",
   "name": "python",
   "nbconvert_exporter": "python",
   "pygments_lexer": "ipython3",
   "version": "3.11.5"
  }
 },
 "nbformat": 4,
 "nbformat_minor": 4
}
